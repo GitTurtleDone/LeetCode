{
 "cells": [
  {
   "cell_type": "code",
   "execution_count": 13,
   "id": "d265bc78",
   "metadata": {},
   "outputs": [
    {
     "name": "stdout",
     "output_type": "stream",
     "text": [
      "long_str: 1011, short_str: 101, max_len: 4, min_len: 3\n",
      "i: 0, sum_digit: 0, carry: 1, result: 0\n",
      "0\n",
      "i: 1, sum_digit: 0, carry: 1, result: 00\n",
      "00\n",
      "i: 2, sum_digit: 0, carry: 1, result: 000\n",
      "000\n",
      "i: 3, sum_digit: 0, carry: 1, result: 0000\n",
      "0000\n",
      "10000\n"
     ]
    }
   ],
   "source": [
    "def addBinary(a: str, b: str) -> str:\n",
    "    long_str = a\n",
    "    if len(b) > len(a):\n",
    "        long_str = b\n",
    "        short_str = a\n",
    "    else:\n",
    "        short_str = b\n",
    "    max_len = len(long_str)\n",
    "    min_len = len(short_str)\n",
    "    print(f\"long_str: {long_str}, short_str: {short_str}, max_len: {max_len}, min_len: {min_len}\")\n",
    "    result = ''\n",
    "    def addBinaryDigits(d1: str, d2: str, carry: int) -> (str,int):\n",
    "        total = int(d1) + int(d2) + carry\n",
    "        if total >=2:\n",
    "            return str(total - 2), 1\n",
    "        else:\n",
    "            return str(total), 0\n",
    "    carry = 0\n",
    "    for i in range(max_len):\n",
    "        if i <= (min_len-1):\n",
    "            sum_digit, carry = addBinaryDigits(long_str[max_len - i - 1], short_str[min_len - i - 1], carry)\n",
    "            result = sum_digit + result\n",
    "            \n",
    "        else:\n",
    "            sum_digit, carry = addBinaryDigits(long_str[max_len - i - 1], \"0\", carry)\n",
    "            result = sum_digit + result\n",
    "        print(f\"i: {i}, sum_digit: {sum_digit}, carry: {carry}, result: {result}\")\n",
    "        print(result)\n",
    "    \n",
    "    return result if carry == 0 else '1' + result  \n",
    "    \n",
    "print(addBinary(\"1011\", \"101\"))   \n",
    "\n"
   ]
  },
  {
   "cell_type": "code",
   "execution_count": null,
   "id": "1d15d720",
   "metadata": {},
   "outputs": [],
   "source": [
    "Runtime\n",
    "2\n",
    "ms\n",
    "Beats\n",
    "49.23%\n",
    "Analyze Complexity\n",
    "Memory\n",
    "17.59\n",
    "MB\n",
    "Beats\n",
    "98.48%\n",
    "Analyze Complexity\n"
   ]
  },
  {
   "cell_type": "code",
   "execution_count": 15,
   "id": "ad70b140",
   "metadata": {},
   "outputs": [
    {
     "data": {
      "text/plain": [
       "'10000'"
      ]
     },
     "execution_count": 15,
     "metadata": {},
     "output_type": "execute_result"
    }
   ],
   "source": [
    "def addBinary(a, b):\n",
    "    return bin(int(a,2) + int(b,2))[2:]\n",
    "addBinary(\"1011\", \"101\")"
   ]
  },
  {
   "cell_type": "code",
   "execution_count": null,
   "id": "ea2f0c6f",
   "metadata": {},
   "outputs": [],
   "source": [
    "def addBinary(a: str, b: str) -> str:\n",
    "    return bin(int(a,2) + int(b,2))[2:]"
   ]
  },
  {
   "cell_type": "code",
   "execution_count": null,
   "id": "66f9d7eb",
   "metadata": {},
   "outputs": [],
   "source": [
    "Runtime\n",
    "0\n",
    "ms\n",
    "Beats\n",
    "100.00%\n",
    "Analyze Complexity\n",
    "Memory\n",
    "12.32\n",
    "MB\n",
    "Beats\n",
    "85.24%"
   ]
  },
  {
   "cell_type": "markdown",
   "id": "3db17baa",
   "metadata": {},
   "source": []
  }
 ],
 "metadata": {
  "kernelspec": {
   "display_name": "base",
   "language": "python",
   "name": "python3"
  },
  "language_info": {
   "codemirror_mode": {
    "name": "ipython",
    "version": 3
   },
   "file_extension": ".py",
   "mimetype": "text/x-python",
   "name": "python",
   "nbconvert_exporter": "python",
   "pygments_lexer": "ipython3",
   "version": "3.10.16"
  }
 },
 "nbformat": 4,
 "nbformat_minor": 5
}
