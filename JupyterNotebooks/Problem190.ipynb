{
 "cells": [
  {
   "cell_type": "code",
   "execution_count": 19,
   "id": "e955b4e1",
   "metadata": {},
   "outputs": [
    {
     "name": "stdout",
     "output_type": "stream",
     "text": [
      "964176192\n"
     ]
    }
   ],
   "source": [
    "def reverseBits(n: int) -> int:\n",
    "    binary_str = bin(n)\n",
    "    binary_str = binary_str[2:]\n",
    "    binary_str = binary_str.zfill(32)\n",
    "    reverse_bits_str = binary_str[::-1]\n",
    "    return int(reverse_bits_str,2)\n",
    "print(reverseBits(43261596))"
   ]
  },
  {
   "cell_type": "markdown",
   "id": "78371655",
   "metadata": {},
   "source": [
    "Runtime\n",
    "27\n",
    "ms\n",
    "Beats\n",
    "98.20%\n",
    "Analyze Complexity\n",
    "Memory\n",
    "17.55\n",
    "MB\n",
    "Beats\n",
    "91.00%\n",
    "Analyze Complexity\n"
   ]
  },
  {
   "cell_type": "markdown",
   "id": "aef15103",
   "metadata": {},
   "source": [
    "\n"
   ]
  }
 ],
 "metadata": {
  "kernelspec": {
   "display_name": "base",
   "language": "python",
   "name": "python3"
  },
  "language_info": {
   "codemirror_mode": {
    "name": "ipython",
    "version": 3
   },
   "file_extension": ".py",
   "mimetype": "text/x-python",
   "name": "python",
   "nbconvert_exporter": "python",
   "pygments_lexer": "ipython3",
   "version": "3.10.16"
  }
 },
 "nbformat": 4,
 "nbformat_minor": 5
}
