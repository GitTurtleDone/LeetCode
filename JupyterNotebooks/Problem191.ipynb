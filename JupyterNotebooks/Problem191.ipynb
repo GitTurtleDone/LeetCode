{
 "cells": [
  {
   "cell_type": "code",
   "execution_count": null,
   "id": "91433294",
   "metadata": {},
   "outputs": [],
   "source": [
    "# Proglem 67: Add Binary\n",
    "def addBinary(a: str, b: str) -> str:\n",
    "    long_str = a\n",
    "    if len(b) > len(a):\n",
    "        long_str = b\n",
    "        short_str = a\n",
    "    else:\n",
    "        short_str = b\n",
    "    max_len = len(long_str)\n",
    "    min_len = len(short_str)\n",
    "    print(f\"long_str: {long_str}, short_str: {short_str}, max_len: {max_len}, min_len: {min_len}\")\n",
    "    result = ''\n",
    "    def addBinaryDigits(d1: str, d2: str, carry: int) -> (str,int):\n",
    "        total = int(d1) + int(d2) + carry\n",
    "        if total >=2:\n",
    "            return str(total - 2), 1\n",
    "        else:\n",
    "            return str(total), 0\n",
    "    carry = 0\n",
    "    for i in range(max_len):\n",
    "        if i <= (min_len-1):\n",
    "            sum_digit, carry = addBinaryDigits(long_str[max_len - i - 1], short_str[min_len - i - 1], carry)\n",
    "            result = sum_digit + result\n",
    "            \n",
    "        else:\n",
    "            sum_digit, carry = addBinaryDigits(long_str[max_len - i - 1], \"0\", carry)\n",
    "            result = sum_digit + result\n",
    "        print(f\"i: {i}, sum_digit: {sum_digit}, carry: {carry}, result: {result}\")\n",
    "        print(result)\n",
    "    \n",
    "    return result if carry == 0 else '1' + result  \n",
    "    \n",
    "print(addBinary(\"1011\", \"101\"))   \n",
    "\n"
   ]
  },
  {
   "cell_type": "code",
   "execution_count": null,
   "id": "68ceaae0",
   "metadata": {},
   "outputs": [],
   "source": [
    "# Problem 190: Reverse Bits\n",
    "def reverseBits(n: int) -> int:\n",
    "    binary_str = bin(n)\n",
    "    binary_str = binary_str[2:]\n",
    "    binary_str = binary_str.zfill(32)\n",
    "    reverse_bits_str = binary_str[::-1]\n",
    "    return int(reverse_bits_str,2)\n",
    "print(reverseBits(43261596))"
   ]
  },
  {
   "cell_type": "code",
   "execution_count": null,
   "id": "a46724b4",
   "metadata": {},
   "outputs": [
    {
     "name": "stdout",
     "output_type": "stream",
     "text": [
      "3\n"
     ]
    }
   ],
   "source": [
    "# Problem 191: Number of 1 Bits\n",
    "def hammingWeight(n):\n",
    "        \"\"\"\n",
    "        :type n: int\n",
    "        :rtype: int\n",
    "        \"\"\"\n",
    "        binary_str = bin(n)\n",
    "        set_bits_num = 0\n",
    "        for c in binary_str:\n",
    "            if c == \"1\":\n",
    "                set_bits_num += 1\n",
    "        return set_bits_num\n",
    "print(hammingWeight(7))  # Output: 3"
   ]
  },
  {
   "cell_type": "code",
   "execution_count": null,
   "id": "ea1a01f3",
   "metadata": {},
   "outputs": [],
   "source": []
  }
 ],
 "metadata": {
  "kernelspec": {
   "display_name": "base",
   "language": "python",
   "name": "python3"
  },
  "language_info": {
   "codemirror_mode": {
    "name": "ipython",
    "version": 3
   },
   "file_extension": ".py",
   "mimetype": "text/x-python",
   "name": "python",
   "nbconvert_exporter": "python",
   "pygments_lexer": "ipython3",
   "version": "3.10.16"
  }
 },
 "nbformat": 4,
 "nbformat_minor": 5
}
